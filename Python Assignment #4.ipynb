{
 "cells": [
  {
   "cell_type": "code",
   "execution_count": 2,
   "metadata": {},
   "outputs": [
    {
     "name": "stdout",
     "output_type": "stream",
     "text": [
      "Select operation.\n",
      "1.Add\n",
      "2.Subtract\n",
      "3.Multiply\n",
      "4.Divide\n",
      "5.Power\n",
      "Enter choice(1/2/3/4/5): 3\n",
      "Enter first number: 12\n",
      "Enter second number: 3\n",
      "12.0 * 3.0 = 36.0\n",
      "Let's do next calculation? (yes/no): yes\n",
      "Enter choice(1/2/3/4/5): 2\n",
      "Enter first number: 13\n",
      "Enter second number: 3\n",
      "13.0 - 3.0 = 10.0\n",
      "Let's do next calculation? (yes/no): no\n"
     ]
    }
   ],
   "source": [
    "#1. Make a calculator using Python with addition , subtraction ,multiplication ,division and power.\n",
    "\n",
    "#adds two numbers\n",
    "def add(x, y):\n",
    "    return x + y\n",
    "\n",
    "#subtracts two numbers\n",
    "def subtract(x, y):\n",
    "    return x - y\n",
    "\n",
    "#multiplies two numbers\n",
    "def multiply(x, y):\n",
    "    return x * y\n",
    "\n",
    "#divide two numbers\n",
    "def divide(x, y):\n",
    "    return x / y\n",
    "\n",
    "#power two numbers\n",
    "def power(x, y):\n",
    "    return x ** y\n",
    "\n",
    "print(\"Select operation.\")\n",
    "print(\"1.Add\")\n",
    "print(\"2.Subtract\")\n",
    "print(\"3.Multiply\")\n",
    "print(\"4.Divide\")\n",
    "print(\"5.Power\")\n",
    "\n",
    "while True:\n",
    "    # take input from the user\n",
    "    choice = input(\"Enter choice(1/2/3/4/5): \")\n",
    "\n",
    "    # check if choice is one of the four options\n",
    "    if choice in ('1', '2', '3', '4', '5'):\n",
    "        num1 = float(input(\"Enter first number: \"))\n",
    "        num2 = float(input(\"Enter second number: \"))\n",
    "\n",
    "        if choice == '1':\n",
    "            print(num1, \"+\", num2, \"=\", add(num1, num2))\n",
    "\n",
    "        elif choice == '2':\n",
    "            print(num1, \"-\", num2, \"=\", subtract(num1, num2))\n",
    "\n",
    "        elif choice == '3':\n",
    "            print(num1, \"*\", num2, \"=\", multiply(num1, num2))\n",
    "\n",
    "        elif choice == '4':\n",
    "            print(num1, \"/\", num2, \"=\", divide(num1, num2))\n",
    "            \n",
    "        elif choice == '5':\n",
    "            print(num1, \"**\", num2, \"=\", power(num1, num2))\n",
    "        \n",
    "        # check if user wants another calculation\n",
    "        # break the while loop if answer is no\n",
    "        next_calculation = input(\"Let's do next calculation? (yes/no): \")\n",
    "        if next_calculation == \"no\":\n",
    "          break\n",
    "    \n",
    "    else:\n",
    "        print(\"Invalid Input\")"
   ]
  },
  {
   "cell_type": "code",
   "execution_count": 7,
   "metadata": {},
   "outputs": [
    {
     "name": "stdout",
     "output_type": "stream",
     "text": [
      "100\n",
      "4\n",
      "0\n"
     ]
    }
   ],
   "source": [
    "#2. Write a program to check if there is any numeric value in list using for loop.\n",
    "list = [100, \"abc\", \"saif\", 4, \"vistro\", 0] \n",
    "for x in list: \n",
    "    if type(x) == int: \n",
    "        print(x)"
   ]
  },
  {
   "cell_type": "code",
   "execution_count": 10,
   "metadata": {},
   "outputs": [
    {
     "name": "stdout",
     "output_type": "stream",
     "text": [
      "Current Dict is:  {1: 'bowlers', 2: 'batsman'}\n",
      "Updated Dict is:  {1: 'bowlers', 2: 'batsman', 3: 'Allrounders', 4: 'Coaching Staff'}\n"
     ]
    }
   ],
   "source": [
    "#3. Write a Python script to add a key to a dictionary.\n",
    "dict = {1 :'bowlers', 2 :'batsman'}\n",
    "print(\"Current Dict is: \", dict)\n",
    "\n",
    "#updated Dictionary..\n",
    "dict[3] = 'Allrounders'\n",
    "dict[4] = 'Coaching Staff'\n",
    "print(\"Updated Dict is: \", dict)"
   ]
  },
  {
   "cell_type": "code",
   "execution_count": 18,
   "metadata": {},
   "outputs": [
    {
     "name": "stdout",
     "output_type": "stream",
     "text": [
      "Sum of the values in the above dictionary is :  110\n"
     ]
    }
   ],
   "source": [
    "#4. Write a Python program to sum all the numeric items in a dictionary.\n",
    "my_dictionary = {'1' : 1,'2' : 2,'3' : 3,'4' : 4,'5' : 100, }\n",
    "\n",
    "sum_dict = sum(my_dictionary.values())\n",
    "\n",
    "print(\"Sum of the values in the above dictionary is : \",sum_dict)"
   ]
  },
  {
   "cell_type": "code",
   "execution_count": 21,
   "metadata": {},
   "outputs": [
    {
     "name": "stdout",
     "output_type": "stream",
     "text": [
      "2 3 4 5 "
     ]
    }
   ],
   "source": [
    "#5. Write a program to identify duplicate values from list.\n",
    "alist=[1,2,3,4,5,2,3,4,7,9,5]\n",
    "empty=[]\n",
    "for i in alist:\n",
    "    if i not in empty:\n",
    "        empty.append(i)\n",
    "    else:\n",
    "        print(i,end=' ')"
   ]
  },
  {
   "cell_type": "code",
   "execution_count": 24,
   "metadata": {},
   "outputs": [
    {
     "name": "stdout",
     "output_type": "stream",
     "text": [
      "Present,  value = 200\n",
      "Not present\n"
     ]
    }
   ],
   "source": [
    "#5.Write a Python script to check if a given key already exists in a dictionary\n",
    "\n",
    "def checkKey(dict, key):\n",
    "    if key in dict.keys():\n",
    "        print(\"Present, \", end =\" \")\n",
    "        print(\"value =\", dict[key])\n",
    "    else:\n",
    "        print(\"Not present\")\n",
    "\n",
    "dict = {'a': 100, 'b':200, 'c':300}\n",
    "\n",
    "key = 'b'\n",
    "checkKey(dict, key)\n",
    "\n",
    "key = 'w'\n",
    "checkKey(dict, key)\n",
    "\n"
   ]
  },
  {
   "cell_type": "code",
   "execution_count": null,
   "metadata": {},
   "outputs": [],
   "source": []
  }
 ],
 "metadata": {
  "kernelspec": {
   "display_name": "Python 3",
   "language": "python",
   "name": "python3"
  },
  "language_info": {
   "codemirror_mode": {
    "name": "ipython",
    "version": 3
   },
   "file_extension": ".py",
   "mimetype": "text/x-python",
   "name": "python",
   "nbconvert_exporter": "python",
   "pygments_lexer": "ipython3",
   "version": "3.7.4"
  }
 },
 "nbformat": 4,
 "nbformat_minor": 2
}
